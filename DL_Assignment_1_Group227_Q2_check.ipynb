{
 "cells": [
  {
   "cell_type": "markdown",
   "metadata": {
    "id": "Wv5ZJpkHzTWg"
   },
   "source": [
    "## **Twitter Sentiment Analysis using NLP**\n",
    "### DL Assignment-1 Q2\n"
   ]
  },
  {
   "cell_type": "markdown",
   "metadata": {
    "id": "Gl2APBO6_7ZB"
   },
   "source": [
    "### **Import Libraries/Dataset**"
   ]
  },
  {
   "cell_type": "code",
   "execution_count": 2,
   "metadata": {
    "id": "cQ-j629fzSz_"
   },
   "outputs": [],
   "source": [
    "import numpy as np \n",
    "import pandas as pd \n",
    "import seaborn as sns \n",
    "import matplotlib.pyplot as plt\n",
    "plt.style.use('ggplot')\n",
    "from sklearn.metrics import roc_curve, auc\n",
    "from sklearn.metrics import classification_report, confusion_matrix\n",
    "\n",
    "# nltk used as alternate apporach (Approch no: 2)\n",
    "import nltk\n",
    "from nltk.corpus import stopwords\n",
    "from nltk.stem import PorterStemmer \n",
    "from sklearn.model_selection import train_test_split\n",
    "from mlxtend.plotting import plot_confusion_matrix\n",
    "import matplotlib.cm as cm\n",
    "from matplotlib import rcParams\n",
    "from collections import Counter\n",
    "from nltk.tokenize import RegexpTokenizer\n",
    "import re\n",
    "import string\n",
    "\n",
    "from tensorflow.keras.layers import Activation, Dense, Dropout, Input, Embedding\n",
    "from tensorflow.keras.models import Model\n",
    "from tensorflow.keras.optimizers import RMSprop\n",
    "from tensorflow.keras.preprocessing.text import Tokenizer\n",
    "from tensorflow.keras.preprocessing import sequence\n",
    "%matplotlib inline\n",
    "\n",
    "import warnings\n",
    "warnings.filterwarnings(\"ignore\")\n",
    "\n",
    "from tensorflow.python.client import device_lib\n",
    "\n",
    "import nltk\n",
    "from nltk.corpus import stopwords\n",
    "from nltk.corpus import stopwords \n",
    "\n",
    "# Code to read csv file into Colaboratory:\n",
    "!pip install -U -q PyDrive\n",
    "from pydrive.auth import GoogleAuth\n",
    "from pydrive.drive import GoogleDrive\n",
    "from google.colab import auth\n",
    "from oauth2client.client import GoogleCredentials\n",
    "# Authenticate and create the PyDrive client.\n",
    "auth.authenticate_user()\n",
    "gauth = GoogleAuth()\n",
    "gauth.credentials = GoogleCredentials.get_application_default()\n",
    "drive = GoogleDrive(gauth)"
   ]
  },
  {
   "cell_type": "markdown",
   "metadata": {
    "id": "K0VvyUuUzx-6"
   },
   "source": [
    "### **Data Loading and Visualization**\n",
    "\n"
   ]
  },
  {
   "cell_type": "markdown",
   "metadata": {
    "id": "W6IsXox7AL56"
   },
   "source": [
    "Checking the GPU availability "
   ]
  },
  {
   "cell_type": "code",
   "execution_count": null,
   "metadata": {
    "colab": {
     "base_uri": "https://localhost:8080/",
     "height": 35
    },
    "id": "sfGAPvbR2LKn",
    "outputId": "58456a30-079b-4d90-fecd-d4568bff1898"
   },
   "outputs": [
    {
     "data": {
      "application/vnd.google.colaboratory.intrinsic+json": {
       "type": "string"
      },
      "text/plain": [
       "'/device:GPU:0'"
      ]
     },
     "execution_count": 10,
     "metadata": {
      "tags": []
     },
     "output_type": "execute_result"
    }
   ],
   "source": [
    "import tensorflow as tf\n",
    "tf.test.gpu_device_name()"
   ]
  },
  {
   "cell_type": "markdown",
   "metadata": {
    "id": "4cf9S99-oMAp"
   },
   "source": [
    ""
   ]
  },
  {
   "cell_type": "markdown",
   "metadata": {
    "id": "KCkkCsOo5DOG"
   },
   "source": [
    "Listing devices"
   ]
  },
  {
   "cell_type": "code",
   "execution_count": null,
   "metadata": {
    "colab": {
     "base_uri": "https://localhost:8080/"
    },
    "id": "PkjhwRyZ48lj",
    "outputId": "4936d29a-79f1-44d5-b688-1eb6b8e39458"
   },
   "outputs": [
    {
     "data": {
      "text/plain": [
       "[name: \"/device:CPU:0\"\n",
       " device_type: \"CPU\"\n",
       " memory_limit: 268435456\n",
       " locality {\n",
       " }\n",
       " incarnation: 15187972336691912781, name: \"/device:GPU:0\"\n",
       " device_type: \"GPU\"\n",
       " memory_limit: 14509932544\n",
       " locality {\n",
       "   bus_id: 1\n",
       "   links {\n",
       "   }\n",
       " }\n",
       " incarnation: 9277527578401452127\n",
       " physical_device_desc: \"device: 0, name: Tesla T4, pci bus id: 0000:00:04.0, compute capability: 7.5\"]"
      ]
     },
     "execution_count": 11,
     "metadata": {
      "tags": []
     },
     "output_type": "execute_result"
    }
   ],
   "source": [
    "device_lib.list_local_devices()"
   ]
  },
  {
   "cell_type": "markdown",
   "metadata": {
    "id": "DIZfGGgZ2i0z"
   },
   "source": [
    "#### Loading data"
   ]
  },
  {
   "cell_type": "code",
   "execution_count": 3,
   "metadata": {
    "id": "LxTdo-_Bz4EA"
   },
   "outputs": [],
   "source": [
    "link = 'https://drive.google.com/file/d/1ywy-BPzBY2MbbykMumYG6a3xbuuwUQop/view?usp=sharing' # The shareable link\n",
    "id = '1ywy-BPzBY2MbbykMumYG6a3xbuuwUQop'\n",
    "\n",
    "downloaded = drive.CreateFile({'id':id}) \n",
    "downloaded.GetContentFile('training.1600000.processed.noemoticon.csv')  \n",
    "data = pd.read_csv('training.1600000.processed.noemoticon.csv', encoding = \"ISO-8859-1\")\n",
    "data.columns = [\"sentiment\",\"ids\",\"date\",\"query_string\",\"user\",\"text\"]"
   ]
  },
  {
   "cell_type": "markdown",
   "metadata": {
    "id": "E8YrDT8F7432"
   },
   "source": [
    "Printing five top records"
   ]
  },
  {
   "cell_type": "code",
   "execution_count": 4,
   "metadata": {
    "colab": {
     "base_uri": "https://localhost:8080/",
     "height": 204
    },
    "id": "ClYvVrxp7uJI",
    "outputId": "af0f1fc2-5db3-449d-f1ad-5af6e2bfc495"
   },
   "outputs": [
    {
     "data": {
      "text/html": [
       "<div>\n",
       "<style scoped>\n",
       "    .dataframe tbody tr th:only-of-type {\n",
       "        vertical-align: middle;\n",
       "    }\n",
       "\n",
       "    .dataframe tbody tr th {\n",
       "        vertical-align: top;\n",
       "    }\n",
       "\n",
       "    .dataframe thead th {\n",
       "        text-align: right;\n",
       "    }\n",
       "</style>\n",
       "<table border=\"1\" class=\"dataframe\">\n",
       "  <thead>\n",
       "    <tr style=\"text-align: right;\">\n",
       "      <th></th>\n",
       "      <th>sentiment</th>\n",
       "      <th>ids</th>\n",
       "      <th>date</th>\n",
       "      <th>query_string</th>\n",
       "      <th>user</th>\n",
       "      <th>text</th>\n",
       "    </tr>\n",
       "  </thead>\n",
       "  <tbody>\n",
       "    <tr>\n",
       "      <th>0</th>\n",
       "      <td>0</td>\n",
       "      <td>1467810672</td>\n",
       "      <td>Mon Apr 06 22:19:49 PDT 2009</td>\n",
       "      <td>NO_QUERY</td>\n",
       "      <td>scotthamilton</td>\n",
       "      <td>is upset that he can't update his Facebook by ...</td>\n",
       "    </tr>\n",
       "    <tr>\n",
       "      <th>1</th>\n",
       "      <td>0</td>\n",
       "      <td>1467810917</td>\n",
       "      <td>Mon Apr 06 22:19:53 PDT 2009</td>\n",
       "      <td>NO_QUERY</td>\n",
       "      <td>mattycus</td>\n",
       "      <td>@Kenichan I dived many times for the ball. Man...</td>\n",
       "    </tr>\n",
       "    <tr>\n",
       "      <th>2</th>\n",
       "      <td>0</td>\n",
       "      <td>1467811184</td>\n",
       "      <td>Mon Apr 06 22:19:57 PDT 2009</td>\n",
       "      <td>NO_QUERY</td>\n",
       "      <td>ElleCTF</td>\n",
       "      <td>my whole body feels itchy and like its on fire</td>\n",
       "    </tr>\n",
       "    <tr>\n",
       "      <th>3</th>\n",
       "      <td>0</td>\n",
       "      <td>1467811193</td>\n",
       "      <td>Mon Apr 06 22:19:57 PDT 2009</td>\n",
       "      <td>NO_QUERY</td>\n",
       "      <td>Karoli</td>\n",
       "      <td>@nationwideclass no, it's not behaving at all....</td>\n",
       "    </tr>\n",
       "    <tr>\n",
       "      <th>4</th>\n",
       "      <td>0</td>\n",
       "      <td>1467811372</td>\n",
       "      <td>Mon Apr 06 22:20:00 PDT 2009</td>\n",
       "      <td>NO_QUERY</td>\n",
       "      <td>joy_wolf</td>\n",
       "      <td>@Kwesidei not the whole crew</td>\n",
       "    </tr>\n",
       "  </tbody>\n",
       "</table>\n",
       "</div>"
      ],
      "text/plain": [
       "   sentiment  ...                                               text\n",
       "0          0  ...  is upset that he can't update his Facebook by ...\n",
       "1          0  ...  @Kenichan I dived many times for the ball. Man...\n",
       "2          0  ...    my whole body feels itchy and like its on fire \n",
       "3          0  ...  @nationwideclass no, it's not behaving at all....\n",
       "4          0  ...                      @Kwesidei not the whole crew \n",
       "\n",
       "[5 rows x 6 columns]"
      ]
     },
     "execution_count": 4,
     "metadata": {
      "tags": []
     },
     "output_type": "execute_result"
    }
   ],
   "source": [
    "data.head()"
   ]
  },
  {
   "cell_type": "markdown",
   "metadata": {
    "id": "olopc-Rv8kMD"
   },
   "source": [
    "Features in data "
   ]
  },
  {
   "cell_type": "code",
   "execution_count": 5,
   "metadata": {
    "colab": {
     "base_uri": "https://localhost:8080/"
    },
    "id": "reBFXk5x8stu",
    "outputId": "6303129c-f78f-4ae6-b7a7-fd609bbcadf4"
   },
   "outputs": [
    {
     "data": {
      "text/plain": [
       "Index(['sentiment', 'ids', 'date', 'query_string', 'user', 'text'], dtype='object')"
      ]
     },
     "execution_count": 5,
     "metadata": {
      "tags": []
     },
     "output_type": "execute_result"
    }
   ],
   "source": [
    "data.columns "
   ]
  },
  {
   "cell_type": "markdown",
   "metadata": {
    "id": "cE0hWzGt84eo"
   },
   "source": [
    " Shape of data"
   ]
  },
  {
   "cell_type": "code",
   "execution_count": 6,
   "metadata": {
    "colab": {
     "base_uri": "https://localhost:8080/"
    },
    "id": "NOajCmhh861e",
    "outputId": "e810f5f9-3f31-4360-fcb4-8188d5c81777"
   },
   "outputs": [
    {
     "data": {
      "text/plain": [
       "(1599999, 6)"
      ]
     },
     "execution_count": 6,
     "metadata": {
      "tags": []
     },
     "output_type": "execute_result"
    }
   ],
   "source": [
    "data.shape"
   ]
  },
  {
   "cell_type": "markdown",
   "metadata": {
    "id": "0SxLT7gVJDoM"
   },
   "source": [
    "Print at least two movie reviews from each class of the dataset, for a sanity check that labels match the text.\n",
    "\n",
    "polarity of the tweet (0 = negative, 2 = neutral, 4 = positive)\n",
    "\n",
    "0 = Negative "
   ]
  },
  {
   "cell_type": "code",
   "execution_count": 7,
   "metadata": {
    "colab": {
     "base_uri": "https://localhost:8080/",
     "height": 204
    },
    "id": "l5f0Xh0iFqYK",
    "outputId": "2e82998d-dfd8-40d6-e90a-41a105d16f83"
   },
   "outputs": [
    {
     "data": {
      "text/html": [
       "<div>\n",
       "<style scoped>\n",
       "    .dataframe tbody tr th:only-of-type {\n",
       "        vertical-align: middle;\n",
       "    }\n",
       "\n",
       "    .dataframe tbody tr th {\n",
       "        vertical-align: top;\n",
       "    }\n",
       "\n",
       "    .dataframe thead th {\n",
       "        text-align: right;\n",
       "    }\n",
       "</style>\n",
       "<table border=\"1\" class=\"dataframe\">\n",
       "  <thead>\n",
       "    <tr style=\"text-align: right;\">\n",
       "      <th></th>\n",
       "      <th>sentiment</th>\n",
       "      <th>ids</th>\n",
       "      <th>date</th>\n",
       "      <th>query_string</th>\n",
       "      <th>user</th>\n",
       "      <th>text</th>\n",
       "    </tr>\n",
       "  </thead>\n",
       "  <tbody>\n",
       "    <tr>\n",
       "      <th>0</th>\n",
       "      <td>0</td>\n",
       "      <td>1467810672</td>\n",
       "      <td>Mon Apr 06 22:19:49 PDT 2009</td>\n",
       "      <td>NO_QUERY</td>\n",
       "      <td>scotthamilton</td>\n",
       "      <td>is upset that he can't update his Facebook by ...</td>\n",
       "    </tr>\n",
       "    <tr>\n",
       "      <th>1</th>\n",
       "      <td>0</td>\n",
       "      <td>1467810917</td>\n",
       "      <td>Mon Apr 06 22:19:53 PDT 2009</td>\n",
       "      <td>NO_QUERY</td>\n",
       "      <td>mattycus</td>\n",
       "      <td>@Kenichan I dived many times for the ball. Man...</td>\n",
       "    </tr>\n",
       "    <tr>\n",
       "      <th>2</th>\n",
       "      <td>0</td>\n",
       "      <td>1467811184</td>\n",
       "      <td>Mon Apr 06 22:19:57 PDT 2009</td>\n",
       "      <td>NO_QUERY</td>\n",
       "      <td>ElleCTF</td>\n",
       "      <td>my whole body feels itchy and like its on fire</td>\n",
       "    </tr>\n",
       "    <tr>\n",
       "      <th>3</th>\n",
       "      <td>0</td>\n",
       "      <td>1467811193</td>\n",
       "      <td>Mon Apr 06 22:19:57 PDT 2009</td>\n",
       "      <td>NO_QUERY</td>\n",
       "      <td>Karoli</td>\n",
       "      <td>@nationwideclass no, it's not behaving at all....</td>\n",
       "    </tr>\n",
       "    <tr>\n",
       "      <th>4</th>\n",
       "      <td>0</td>\n",
       "      <td>1467811372</td>\n",
       "      <td>Mon Apr 06 22:20:00 PDT 2009</td>\n",
       "      <td>NO_QUERY</td>\n",
       "      <td>joy_wolf</td>\n",
       "      <td>@Kwesidei not the whole crew</td>\n",
       "    </tr>\n",
       "  </tbody>\n",
       "</table>\n",
       "</div>"
      ],
      "text/plain": [
       "   sentiment  ...                                               text\n",
       "0          0  ...  is upset that he can't update his Facebook by ...\n",
       "1          0  ...  @Kenichan I dived many times for the ball. Man...\n",
       "2          0  ...    my whole body feels itchy and like its on fire \n",
       "3          0  ...  @nationwideclass no, it's not behaving at all....\n",
       "4          0  ...                      @Kwesidei not the whole crew \n",
       "\n",
       "[5 rows x 6 columns]"
      ]
     },
     "execution_count": 7,
     "metadata": {
      "tags": []
     },
     "output_type": "execute_result"
    }
   ],
   "source": [
    "negative_review = data[data['sentiment']==0]\n",
    "negative_review.head()"
   ]
  },
  {
   "cell_type": "code",
   "execution_count": 8,
   "metadata": {
    "colab": {
     "base_uri": "https://localhost:8080/"
    },
    "id": "DY-OlynHJRop",
    "outputId": "1dbef2fc-212b-49b4-e3de-4a70033be5ae"
   },
   "outputs": [
    {
     "data": {
      "text/plain": [
       "(799999, 6)"
      ]
     },
     "execution_count": 8,
     "metadata": {
      "tags": []
     },
     "output_type": "execute_result"
    }
   ],
   "source": [
    "negative_review.shape"
   ]
  },
  {
   "cell_type": "markdown",
   "metadata": {
    "id": "m-ENdtstJUGA"
   },
   "source": [
    " polarity of the tweet : 4 = positive\n",
    "\n"
   ]
  },
  {
   "cell_type": "code",
   "execution_count": 9,
   "metadata": {
    "colab": {
     "base_uri": "https://localhost:8080/",
     "height": 204
    },
    "id": "3LJoWZubJdGN",
    "outputId": "c81dd000-a2ed-40cf-990c-9e66386c4c26"
   },
   "outputs": [
    {
     "data": {
      "text/html": [
       "<div>\n",
       "<style scoped>\n",
       "    .dataframe tbody tr th:only-of-type {\n",
       "        vertical-align: middle;\n",
       "    }\n",
       "\n",
       "    .dataframe tbody tr th {\n",
       "        vertical-align: top;\n",
       "    }\n",
       "\n",
       "    .dataframe thead th {\n",
       "        text-align: right;\n",
       "    }\n",
       "</style>\n",
       "<table border=\"1\" class=\"dataframe\">\n",
       "  <thead>\n",
       "    <tr style=\"text-align: right;\">\n",
       "      <th></th>\n",
       "      <th>sentiment</th>\n",
       "      <th>ids</th>\n",
       "      <th>date</th>\n",
       "      <th>query_string</th>\n",
       "      <th>user</th>\n",
       "      <th>text</th>\n",
       "    </tr>\n",
       "  </thead>\n",
       "  <tbody>\n",
       "    <tr>\n",
       "      <th>799999</th>\n",
       "      <td>4</td>\n",
       "      <td>1467822272</td>\n",
       "      <td>Mon Apr 06 22:22:45 PDT 2009</td>\n",
       "      <td>NO_QUERY</td>\n",
       "      <td>ersle</td>\n",
       "      <td>I LOVE @Health4UandPets u guys r the best!!</td>\n",
       "    </tr>\n",
       "    <tr>\n",
       "      <th>800000</th>\n",
       "      <td>4</td>\n",
       "      <td>1467822273</td>\n",
       "      <td>Mon Apr 06 22:22:45 PDT 2009</td>\n",
       "      <td>NO_QUERY</td>\n",
       "      <td>becca210</td>\n",
       "      <td>im meeting up with one of my besties tonight! ...</td>\n",
       "    </tr>\n",
       "    <tr>\n",
       "      <th>800001</th>\n",
       "      <td>4</td>\n",
       "      <td>1467822283</td>\n",
       "      <td>Mon Apr 06 22:22:46 PDT 2009</td>\n",
       "      <td>NO_QUERY</td>\n",
       "      <td>Wingman29</td>\n",
       "      <td>@DaRealSunisaKim Thanks for the Twitter add, S...</td>\n",
       "    </tr>\n",
       "    <tr>\n",
       "      <th>800002</th>\n",
       "      <td>4</td>\n",
       "      <td>1467822287</td>\n",
       "      <td>Mon Apr 06 22:22:46 PDT 2009</td>\n",
       "      <td>NO_QUERY</td>\n",
       "      <td>katarinka</td>\n",
       "      <td>Being sick can be really cheap when it hurts t...</td>\n",
       "    </tr>\n",
       "    <tr>\n",
       "      <th>800003</th>\n",
       "      <td>4</td>\n",
       "      <td>1467822293</td>\n",
       "      <td>Mon Apr 06 22:22:46 PDT 2009</td>\n",
       "      <td>NO_QUERY</td>\n",
       "      <td>_EmilyYoung</td>\n",
       "      <td>@LovesBrooklyn2 he has that effect on everyone</td>\n",
       "    </tr>\n",
       "  </tbody>\n",
       "</table>\n",
       "</div>"
      ],
      "text/plain": [
       "        sentiment  ...                                               text\n",
       "799999          4  ...       I LOVE @Health4UandPets u guys r the best!! \n",
       "800000          4  ...  im meeting up with one of my besties tonight! ...\n",
       "800001          4  ...  @DaRealSunisaKim Thanks for the Twitter add, S...\n",
       "800002          4  ...  Being sick can be really cheap when it hurts t...\n",
       "800003          4  ...    @LovesBrooklyn2 he has that effect on everyone \n",
       "\n",
       "[5 rows x 6 columns]"
      ]
     },
     "execution_count": 9,
     "metadata": {
      "tags": []
     },
     "output_type": "execute_result"
    }
   ],
   "source": [
    "positive_review = data[data['sentiment']==4]\n",
    "positive_review.head()"
   ]
  },
  {
   "cell_type": "code",
   "execution_count": 10,
   "metadata": {
    "colab": {
     "base_uri": "https://localhost:8080/"
    },
    "id": "KUexBsLPJhff",
    "outputId": "4976b98a-c760-4814-b5a7-3d0774f3a7d8"
   },
   "outputs": [
    {
     "data": {
      "text/plain": [
       "(800000, 6)"
      ]
     },
     "execution_count": 10,
     "metadata": {
      "tags": []
     },
     "output_type": "execute_result"
    }
   ],
   "source": [
    "positive_review.shape"
   ]
  },
  {
   "cell_type": "markdown",
   "metadata": {
    "id": "Z0G6PEp8PvLd"
   },
   "source": [
    "polarity of the tweet: 2 = neutral"
   ]
  },
  {
   "cell_type": "code",
   "execution_count": 11,
   "metadata": {
    "colab": {
     "base_uri": "https://localhost:8080/",
     "height": 49
    },
    "id": "MJTr8HFaPzWF",
    "outputId": "662dd629-56d4-4673-89af-8cf2966262b7"
   },
   "outputs": [
    {
     "data": {
      "text/html": [
       "<div>\n",
       "<style scoped>\n",
       "    .dataframe tbody tr th:only-of-type {\n",
       "        vertical-align: middle;\n",
       "    }\n",
       "\n",
       "    .dataframe tbody tr th {\n",
       "        vertical-align: top;\n",
       "    }\n",
       "\n",
       "    .dataframe thead th {\n",
       "        text-align: right;\n",
       "    }\n",
       "</style>\n",
       "<table border=\"1\" class=\"dataframe\">\n",
       "  <thead>\n",
       "    <tr style=\"text-align: right;\">\n",
       "      <th></th>\n",
       "      <th>sentiment</th>\n",
       "      <th>ids</th>\n",
       "      <th>date</th>\n",
       "      <th>query_string</th>\n",
       "      <th>user</th>\n",
       "      <th>text</th>\n",
       "    </tr>\n",
       "  </thead>\n",
       "  <tbody>\n",
       "  </tbody>\n",
       "</table>\n",
       "</div>"
      ],
      "text/plain": [
       "Empty DataFrame\n",
       "Columns: [sentiment, ids, date, query_string, user, text]\n",
       "Index: []"
      ]
     },
     "execution_count": 11,
     "metadata": {
      "tags": []
     },
     "output_type": "execute_result"
    }
   ],
   "source": [
    "neutral_review = data[data['sentiment']==2]\n",
    "neutral_review.head()"
   ]
  },
  {
   "cell_type": "code",
   "execution_count": 12,
   "metadata": {
    "colab": {
     "base_uri": "https://localhost:8080/"
    },
    "id": "pO7IWQ3hP7Fq",
    "outputId": "d955db03-bb66-458f-f516-69e88be9aaaa"
   },
   "outputs": [
    {
     "data": {
      "text/plain": [
       "(0, 6)"
      ]
     },
     "execution_count": 12,
     "metadata": {
      "tags": []
     },
     "output_type": "execute_result"
    }
   ],
   "source": [
    "neutral_review.shape"
   ]
  },
  {
   "cell_type": "markdown",
   "metadata": {
    "id": "vEKJd_Du94E7"
   },
   "source": [
    "Data information "
   ]
  },
  {
   "cell_type": "code",
   "execution_count": 13,
   "metadata": {
    "colab": {
     "base_uri": "https://localhost:8080/"
    },
    "id": "3gGsSA6B93ss",
    "outputId": "7455c1c9-ff7d-46ef-d462-49d619a73367"
   },
   "outputs": [
    {
     "name": "stdout",
     "output_type": "stream",
     "text": [
      "<class 'pandas.core.frame.DataFrame'>\n",
      "RangeIndex: 1599999 entries, 0 to 1599998\n",
      "Data columns (total 6 columns):\n",
      " #   Column        Non-Null Count    Dtype \n",
      "---  ------        --------------    ----- \n",
      " 0   sentiment     1599999 non-null  int64 \n",
      " 1   ids           1599999 non-null  int64 \n",
      " 2   date          1599999 non-null  object\n",
      " 3   query_string  1599999 non-null  object\n",
      " 4   user          1599999 non-null  object\n",
      " 5   text          1599999 non-null  object\n",
      "dtypes: int64(2), object(4)\n",
      "memory usage: 73.2+ MB\n"
     ]
    },
    {
     "data": {
      "text/plain": [
       "pandas.core.series.Series"
      ]
     },
     "execution_count": 13,
     "metadata": {
      "tags": []
     },
     "output_type": "execute_result"
    }
   ],
   "source": [
    "data.info()\n",
    "type(data.text)"
   ]
  },
  {
   "cell_type": "markdown",
   "metadata": {
    "id": "jRN-Gf0b-gYC"
   },
   "source": [
    "Plot a bar graph of class distribution in a dataset. Each bar depicts the number of tweets belonging to a particular sentiment"
   ]
  },
  {
   "cell_type": "code",
   "execution_count": 14,
   "metadata": {
    "colab": {
     "base_uri": "https://localhost:8080/",
     "height": 399
    },
    "id": "7D7FgJyr-kPs",
    "outputId": "1b848e95-8cfd-40a8-e71a-b50a27dc3293"
   },
   "outputs": [
    {
     "data": {
      "text/plain": [
       "<seaborn.axisgrid.FacetGrid at 0x7f069c1990d0>"
      ]
     },
     "execution_count": 14,
     "metadata": {
      "tags": []
     },
     "output_type": "execute_result"
    },
    {
     "data": {
      "image/png": "[encoded data removed]",
      "text/plain": [
       "<Figure size 360x360 with 1 Axes>"
      ]
     },
     "metadata": {
      "tags": []
     },
     "output_type": "display_data"
    }
   ],
   "source": [
    "\n",
    "# create a list of our conditions\n",
    "conditions = [\n",
    "    (data['sentiment'] == 0),\n",
    "    (data['sentiment'] == 4 ) \n",
    "    ]\n",
    "\n",
    "# create a list of the values we want to assign for each condition\n",
    "values = ['Negeative-Sentiment', 'Positive-Sentiment']\n",
    "\n",
    "# create a new column and use np.select to assign values to it using our lists as arguments\n",
    "data['Senti_Pos_Neg'] = np.select(conditions, values)\n",
    "import seaborn as sns\n",
    "import matplotlib.pyplot as plt\n",
    "sns.set_theme(style=\"ticks\", color_codes=True)\n",
    "# Categorical scatterplots\n",
    "sns.catplot(x=\"Senti_Pos_Neg\", kind=\"count\", palette=\"ch:.25\", data=data)"
   ]
  },
  {
   "cell_type": "markdown",
   "metadata": {
    "id": "lpjhWgs__PSe"
   },
   "source": [
    "### **Data Pre-processing**"
   ]
  },
  {
   "cell_type": "code",
   "execution_count": 15,
   "metadata": {
    "colab": {
     "base_uri": "https://localhost:8080/"
    },
    "id": "tOcSJXO2_yac",
    "outputId": "cc236df9-9b11-4e88-efd1-2f4f587cba57"
   },
   "outputs": [
    {
     "data": {
      "text/plain": [
       "0"
      ]
     },
     "execution_count": 15,
     "metadata": {
      "tags": []
     },
     "output_type": "execute_result"
    }
   ],
   "source": [
    "np.sum(data.isnull().any(axis=1))"
   ]
  },
  {
   "cell_type": "code",
   "execution_count": 16,
   "metadata": {
    "colab": {
     "base_uri": "https://localhost:8080/"
    },
    "id": "jK1j47xc_d9a",
    "outputId": "34d1d1c5-a279-4f40-b2cc-3c0c7ec02711"
   },
   "outputs": [
    {
     "name": "stdout",
     "output_type": "stream",
     "text": [
      "Count of columns in the data is : 7\n"
     ]
    }
   ],
   "source": [
    "print('Count of columns in the data is :',len(data.columns))"
   ]
  },
  {
   "cell_type": "code",
   "execution_count": 17,
   "metadata": {
    "colab": {
     "base_uri": "https://localhost:8080/"
    },
    "id": "oF8jvrvFCDjC",
    "outputId": "4fb87ae4-b1ca-40f3-842b-caa3a0775504"
   },
   "outputs": [
    {
     "name": "stdout",
     "output_type": "stream",
     "text": [
      "Count of rows in the data is  1599999\n"
     ]
    }
   ],
   "source": [
    "print('Count of rows in the data is ',len(data))"
   ]
  },
  {
   "cell_type": "code",
   "execution_count": 18,
   "metadata": {
    "id": "HqrRJELaCI1b"
   },
   "outputs": [],
   "source": [
    "# select only tweets and sentiment.\n",
    "data=data[['text','sentiment']]\n",
    "\n",
    "#  Assigning 1 to positive sentiment 4\n",
    "data['sentiment'][data['sentiment']==4] = 1\n",
    "\n",
    "# Separating positive and negative tweets.\n",
    "data_pos = data[data['sentiment']==1]\n",
    "data_neg = data[data['sentiment']==0]\n",
    "\n",
    "#Taking one forth data so we can run on our machine easily.\n",
    "data_pos = data_pos.iloc[:int(20000)]\n",
    "data_neg = data_neg.iloc[:int(20000)]\n",
    "\n",
    "#Taking half of the data so we can run on our machine easily.\n",
    "#data_pos = data_pos.iloc[:int(40000)]\n",
    "#data_neg = data_neg.iloc[:int(40000)]\n",
    "\n",
    "#Combining positive and negative tweets.\n",
    "data = pd.concat([data_pos, data_neg])\n",
    "\n",
    "#Making all tweets to lowercase.\n",
    "data['text']=data['text'].str.lower()"
   ]
  },
  {
   "cell_type": "code",
   "execution_count": 19,
   "metadata": {
    "colab": {
     "base_uri": "https://localhost:8080/"
    },
    "id": "P-5z0Q334lk1",
    "outputId": "e481eabf-302a-4ff8-a629-249e229b3339"
   },
   "outputs": [
    {
     "name": "stdout",
     "output_type": "stream",
     "text": [
      "<class 'pandas.core.frame.DataFrame'>\n",
      "Int64Index: 40000 entries, 799999 to 19999\n",
      "Data columns (total 2 columns):\n",
      " #   Column     Non-Null Count  Dtype \n",
      "---  ------     --------------  ----- \n",
      " 0   text       40000 non-null  object\n",
      " 1   sentiment  40000 non-null  int64 \n",
      "dtypes: int64(1), object(1)\n",
      "memory usage: 937.5+ KB\n"
     ]
    }
   ],
   "source": [
    "data.info()"
   ]
  },
  {
   "cell_type": "code",
   "execution_count": 20,
   "metadata": {
    "colab": {
     "base_uri": "https://localhost:8080/",
     "height": 0
    },
    "id": "th85Z7xV4sqF",
    "outputId": "8de874e1-abef-4172-e311-e95c392f0c09"
   },
   "outputs": [
    {
     "data": {
      "text/html": [
       "<div>\n",
       "<style scoped>\n",
       "    .dataframe tbody tr th:only-of-type {\n",
       "        vertical-align: middle;\n",
       "    }\n",
       "\n",
       "    .dataframe tbody tr th {\n",
       "        vertical-align: top;\n",
       "    }\n",
       "\n",
       "    .dataframe thead th {\n",
       "        text-align: right;\n",
       "    }\n",
       "</style>\n",
       "<table border=\"1\" class=\"dataframe\">\n",
       "  <thead>\n",
       "    <tr style=\"text-align: right;\">\n",
       "      <th></th>\n",
       "      <th>text</th>\n",
       "      <th>sentiment</th>\n",
       "    </tr>\n",
       "  </thead>\n",
       "  <tbody>\n",
       "    <tr>\n",
       "      <th>799999</th>\n",
       "      <td>i love @health4uandpets u guys r the best!!</td>\n",
       "      <td>1</td>\n",
       "    </tr>\n",
       "    <tr>\n",
       "      <th>800000</th>\n",
       "      <td>im meeting up with one of my besties tonight! ...</td>\n",
       "      <td>1</td>\n",
       "    </tr>\n",
       "    <tr>\n",
       "      <th>800001</th>\n",
       "      <td>@darealsunisakim thanks for the twitter add, s...</td>\n",
       "      <td>1</td>\n",
       "    </tr>\n",
       "    <tr>\n",
       "      <th>800002</th>\n",
       "      <td>being sick can be really cheap when it hurts t...</td>\n",
       "      <td>1</td>\n",
       "    </tr>\n",
       "    <tr>\n",
       "      <th>800003</th>\n",
       "      <td>@lovesbrooklyn2 he has that effect on everyone</td>\n",
       "      <td>1</td>\n",
       "    </tr>\n",
       "  </tbody>\n",
       "</table>\n",
       "</div>"
      ],
      "text/plain": [
       "                                                     text  sentiment\n",
       "799999       i love @health4uandpets u guys r the best!!           1\n",
       "800000  im meeting up with one of my besties tonight! ...          1\n",
       "800001  @darealsunisakim thanks for the twitter add, s...          1\n",
       "800002  being sick can be really cheap when it hurts t...          1\n",
       "800003    @lovesbrooklyn2 he has that effect on everyone           1"
      ]
     },
     "execution_count": 20,
     "metadata": {
      "tags": []
     },
     "output_type": "execute_result"
    }
   ],
   "source": [
    "data.head()"
   ]
  },
  {
   "cell_type": "markdown",
   "metadata": {
    "id": "KjpjSWeKp64D"
   },
   "source": [
    "We used two approaches here to bring the train and test data in the required format"
   ]
  },
  {
   "cell_type": "markdown",
   "metadata": {
    "id": "Gq5NyDvZ5ODC"
   },
   "source": [
    "Approach1 - converting sentences to vectors using pre-trained embedding layer from TensorFlow hub (as mentioned in the assigment question)\n"
   ]
  },
  {
   "cell_type": "code",
   "execution_count": 21,
   "metadata": {
    "colab": {
     "base_uri": "https://localhost:8080/"
    },
    "id": "ecb6jHPq5Rrh",
    "outputId": "4af6cf16-e67a-4890-f1b7-873c23696869"
   },
   "outputs": [
    {
     "data": {
      "text/plain": [
       "<tf.Tensor: shape=(40000, 128), dtype=float32, numpy=\n",
       "array([[ 0.13271803,  0.06552115, -0.05014289, ..., -0.06968707,\n",
       "         0.01226009, -0.11469741],\n",
       "       [ 0.27051812,  0.06388213,  0.03982128, ...,  0.12367085,\n",
       "         0.13651255,  0.00140675],\n",
       "       [ 0.46855348,  0.05110646,  0.15010251, ...,  0.04474387,\n",
       "         0.09825298, -0.11151113],\n",
       "       ...,\n",
       "       [ 0.41428247,  0.07766938,  0.04065007, ..., -0.06441787,\n",
       "         0.14087844, -0.01980409],\n",
       "       [ 0.58853245,  0.01427247,  0.18032347, ..., -0.07106814,\n",
       "        -0.03796418, -0.03816634],\n",
       "       [ 0.48951778, -0.00131879,  0.21947195, ..., -0.20358494,\n",
       "         0.07959084,  0.03303012]], dtype=float32)>"
      ]
     },
     "execution_count": 21,
     "metadata": {
      "tags": []
     },
     "output_type": "execute_result"
    }
   ],
   "source": [
    "import tensorflow_hub as hub\n",
    "\n",
    "embed = hub.load(\"https://tfhub.dev/google/nnlm-en-dim128/2\")\n",
    "embeddings = embed(data['text'])\n",
    "embeddings\n"
   ]
  },
  {
   "cell_type": "markdown",
   "metadata": {
    "id": "0x1HfTDH5i7g"
   },
   "source": [
    "Approach2 -  converting sentences to vectors using nltk.\n",
    "\n",
    "and also cleaning the data."
   ]
  },
  {
   "cell_type": "code",
   "execution_count": 22,
   "metadata": {
    "colab": {
     "base_uri": "https://localhost:8080/",
     "height": 0
    },
    "id": "dWXDKXWiWhZ2",
    "outputId": "fafaa52c-444c-4a4f-a583-3d3a5d8cd1db"
   },
   "outputs": [
    {
     "name": "stdout",
     "output_type": "stream",
     "text": [
      "[nltk_data] Downloading package stopwords to /root/nltk_data...\n",
      "[nltk_data]   Unzipping corpora/stopwords.zip.\n"
     ]
    },
    {
     "data": {
      "application/vnd.google.colaboratory.intrinsic+json": {
       "type": "string"
      },
      "text/plain": [
       "\"i,me,my,myself,we,our,ours,ourselves,you,you're,you've,you'll,you'd,your,yours,yourself,yourselves,he,him,his,himself,she,she's,her,hers,herself,it,it's,its,itself,they,them,their,theirs,themselves,what,which,who,whom,this,that,that'll,these,those,am,is,are,was,were,be,been,being,have,has,had,having,do,does,did,doing,a,an,the,and,but,if,or,because,as,until,while,of,at,by,for,with,about,against,between,into,through,during,before,after,above,below,to,from,up,down,in,out,on,off,over,under,again,further,then,once,here,there,when,where,why,how,all,any,both,each,few,more,most,other,some,such,no,nor,not,only,own,same,so,than,too,very,s,t,can,will,just,don,don't,should,should've,now,d,ll,m,o,re,ve,y,ain,aren,aren't,couldn,couldn't,didn,didn't,doesn,doesn't,hadn,hadn't,hasn,hasn't,haven,haven't,isn,isn't,ma,mightn,mightn't,mustn,mustn't,needn,needn't,shan,shan't,shouldn,shouldn't,wasn,wasn't,weren,weren't,won,won't,wouldn,wouldn't\""
      ]
     },
     "execution_count": 22,
     "metadata": {
      "tags": []
     },
     "output_type": "execute_result"
    }
   ],
   "source": [
    "#Cleaning and removing stop words of english.\n",
    "nltk.download('stopwords')\n",
    "stopwords_list = stopwords.words('english')\n",
    "\n",
    "from nltk.corpus import stopwords \n",
    "\",\".join(stopwords.words('english'))"
   ]
  },
  {
   "cell_type": "code",
   "execution_count": 23,
   "metadata": {
    "colab": {
     "base_uri": "https://localhost:8080/"
    },
    "id": "EuvrcL4BDH3_",
    "outputId": "65412545-9cfd-479b-8355-6c92819076d8"
   },
   "outputs": [
    {
     "data": {
      "text/plain": [
       "799999                love @health4uandpets u guys r best!!\n",
       "800000    im meeting one besties tonight! cant wait!! - ...\n",
       "800001    @darealsunisakim thanks twitter add, sunisa! g...\n",
       "800002    sick really cheap hurts much eat real food plu...\n",
       "800003                      @lovesbrooklyn2 effect everyone\n",
       "Name: text, dtype: object"
      ]
     },
     "execution_count": 23,
     "metadata": {
      "tags": []
     },
     "output_type": "execute_result"
    }
   ],
   "source": [
    "#Cleaning and removing the above stop words list from the tweet text.\n",
    "STOPWORDS = set(stopwords.words('english'))\n",
    "def cleaning_stopwords(text):\n",
    "    return \" \".join([word for word in str(text).split() if word not in STOPWORDS])\n",
    "data['text'] = data['text'].apply(lambda text: cleaning_stopwords(text))\n",
    "data['text'].head()"
   ]
  },
  {
   "cell_type": "code",
   "execution_count": 24,
   "metadata": {
    "id": "MMZ1kocdYnKG"
   },
   "outputs": [],
   "source": [
    "#Cleaning and Removing punctuatotions \n",
    "eng_punc = string.punctuation\n",
    "punctuation_list = eng_punc\n",
    "def cleaning_punctuation(text):\n",
    "  translator = str.maketrans('','',punctuation_list)\n",
    "  return text.translate(translator)"
   ]
  },
  {
   "cell_type": "code",
   "execution_count": 25,
   "metadata": {
    "colab": {
     "base_uri": "https://localhost:8080/"
    },
    "id": "4gsDs-D2ZfO3",
    "outputId": "8fdaabe3-b0b4-43f7-e3b1-45add0b2c47b"
   },
   "outputs": [
    {
     "data": {
      "text/plain": [
       "19995                                     one day holidays\n",
       "19996                     feeling right  hate damn humprey\n",
       "19997    geezi hv read whole book personality types emb...\n",
       "19998     threw sign donnie bent get thingee made sad face\n",
       "19999    heather2711 good thing find none ones like com...\n",
       "Name: text, dtype: object"
      ]
     },
     "execution_count": 25,
     "metadata": {
      "tags": []
     },
     "output_type": "execute_result"
    }
   ],
   "source": [
    "data['text'] = data['text'].apply(lambda x: cleaning_punctuation(x))\n",
    "data['text'].tail()"
   ]
  },
  {
   "cell_type": "code",
   "execution_count": 26,
   "metadata": {
    "id": "Y7LtvLU1DOdA"
   },
   "outputs": [],
   "source": [
    "#Cleaning and removing repeating characters\n",
    "def cleaning_repeating_char(text):\n",
    "    return re.sub(r'(.)\\1+',r'\\1',text)\n"
   ]
  },
  {
   "cell_type": "code",
   "execution_count": 27,
   "metadata": {
    "colab": {
     "base_uri": "https://localhost:8080/"
    },
    "id": "wUfM4pbyZ9NG",
    "outputId": "fa364e16-ffdd-4e95-d5fd-babdd3adefb1"
   },
   "outputs": [
    {
     "data": {
      "text/plain": [
       "19995                                     one day holidays\n",
       "19996                       feling right hate damn humprey\n",
       "19997    gezi hv read whole bok personality types embar...\n",
       "19998       threw sign donie bent get thinge made sad face\n",
       "19999    heather271 god thing find none ones like come ...\n",
       "Name: text, dtype: object"
      ]
     },
     "execution_count": 27,
     "metadata": {
      "tags": []
     },
     "output_type": "execute_result"
    }
   ],
   "source": [
    "data['text'] = data['text'].apply(lambda x: cleaning_repeating_char(x))\n",
    "data['text'].tail()"
   ]
  },
  {
   "cell_type": "code",
   "execution_count": 28,
   "metadata": {
    "colab": {
     "base_uri": "https://localhost:8080/"
    },
    "id": "OSPaYojmDY51",
    "outputId": "0a3a7bc2-2abc-4bba-ee47-2fc0cbc665f7"
   },
   "outputs": [
    {
     "data": {
      "text/plain": [
       "19995                                     one day holidays\n",
       "19996                       feling right hate damn humprey\n",
       "19997    gezi hv read whole bok personality types embar...\n",
       "19998       threw sign donie bent get thinge made sad face\n",
       "19999    heather271 god thing find none ones like come ...\n",
       "Name: text, dtype: object"
      ]
     },
     "execution_count": 28,
     "metadata": {
      "tags": []
     },
     "output_type": "execute_result"
    }
   ],
   "source": [
    "# Cleaning and removing emails.\n",
    "def cleaning_email(data):\n",
    "    return re.sub('@[^\\s]+',' ',data)\n",
    "data['text']=data['text'].apply(lambda x:cleaning_email(x))\n",
    "data['text'].tail()"
   ]
  },
  {
   "cell_type": "code",
   "execution_count": 29,
   "metadata": {
    "colab": {
     "base_uri": "https://localhost:8080/"
    },
    "id": "5jv_MtOFDcLz",
    "outputId": "d1a5682f-55ac-47e4-e7dd-27ecf63f82b8"
   },
   "outputs": [
    {
     "data": {
      "text/plain": [
       "19995                                     one day holidays\n",
       "19996                       feling right hate damn humprey\n",
       "19997    gezi hv read whole bok personality types embar...\n",
       "19998       threw sign donie bent get thinge made sad face\n",
       "19999    heather271 god thing find none ones like come ...\n",
       "Name: text, dtype: object"
      ]
     },
     "execution_count": 29,
     "metadata": {
      "tags": []
     },
     "output_type": "execute_result"
    }
   ],
   "source": [
    "#Cleaning and remvoing URLS's\n",
    "def cleaning_URLs(data):\n",
    "    return re.sub('((www\\.[^\\s]+)|(https?://[^\\s]+))',' ',data)\n",
    "data['text']=data['text'].apply(lambda x: cleaning_URLs(x))\n",
    "data['text'].tail()"
   ]
  },
  {
   "cell_type": "code",
   "execution_count": 30,
   "metadata": {
    "colab": {
     "base_uri": "https://localhost:8080/"
    },
    "id": "xoyJazFiDdjK",
    "outputId": "63831dec-8ea2-45f7-9cbe-bef667bf2325"
   },
   "outputs": [
    {
     "data": {
      "text/plain": [
       "19995                                     one day holidays\n",
       "19996                       feling right hate damn humprey\n",
       "19997    gezi hv read whole bok personality types embar...\n",
       "19998       threw sign donie bent get thinge made sad face\n",
       "19999    heather god thing find none ones like come siz...\n",
       "Name: text, dtype: object"
      ]
     },
     "execution_count": 30,
     "metadata": {
      "tags": []
     },
     "output_type": "execute_result"
    }
   ],
   "source": [
    "#Cleaning and removing Numeric numbers\n",
    "def cleaning_numbers(data):\n",
    "    return re.sub('[0-9]+', '',data)\n",
    "data['text']=data['text'].apply(lambda x: cleaning_numbers(x))\n",
    "data['text'].tail()"
   ]
  },
  {
   "cell_type": "code",
   "execution_count": 31,
   "metadata": {
    "colab": {
     "base_uri": "https://localhost:8080/"
    },
    "id": "QLy9vaEKDf4S",
    "outputId": "362c0624-928c-40ae-d9ce-cd4d4454fac4"
   },
   "outputs": [
    {
     "data": {
      "text/plain": [
       "799999             [love, healthuandpets, u, guys, r, best]\n",
       "800000    [im, meting, one, besties, tonight, cant, wait...\n",
       "800001    [darealsunisakim, thanks, twiter, ad, sunisa, ...\n",
       "800002    [sick, realy, cheap, hurts, much, eat, real, f...\n",
       "800003                      [lovesbroklyn, efect, everyone]\n",
       "Name: text, dtype: object"
      ]
     },
     "execution_count": 31,
     "metadata": {
      "tags": []
     },
     "output_type": "execute_result"
    }
   ],
   "source": [
    "#Getting tokenization of tweet text\n",
    "data_preproc1 = data\n",
    "tokenizer = RegexpTokenizer(r'\\w+')\n",
    "data_preproc1['text']=data_preproc1['text'].apply(tokenizer.tokenize)\n",
    "data_preproc1['text'].head()"
   ]
  },
  {
   "cell_type": "code",
   "execution_count": 32,
   "metadata": {
    "colab": {
     "base_uri": "https://localhost:8080/"
    },
    "id": "fGD2kPj-DjoG",
    "outputId": "387c29cd-aa28-44dd-ede5-d0feb292166c"
   },
   "outputs": [
    {
     "data": {
      "text/plain": [
       "799999             [love, healthuandpets, u, guys, r, best]\n",
       "800000    [im, meting, one, besties, tonight, cant, wait...\n",
       "800001    [darealsunisakim, thanks, twiter, ad, sunisa, ...\n",
       "800002    [sick, realy, cheap, hurts, much, eat, real, f...\n",
       "800003                      [lovesbroklyn, efect, everyone]\n",
       "Name: text, dtype: object"
      ]
     },
     "execution_count": 32,
     "metadata": {
      "tags": []
     },
     "output_type": "execute_result"
    }
   ],
   "source": [
    "#Applying Steamming\n",
    "st = nltk.PorterStemmer()\n",
    "\n",
    "def stemming_on_text(data):\n",
    "    text = [st.stem(word) for word in data]\n",
    "    return(data)\n",
    "\n",
    "data_preproc1['text']=data_preproc1['text'].apply(lambda x: stemming_on_text(x))\n",
    "data_preproc1['text'].head()"
   ]
  },
  {
   "cell_type": "code",
   "execution_count": 33,
   "metadata": {
    "colab": {
     "base_uri": "https://localhost:8080/"
    },
    "id": "FzsyLEItDolb",
    "outputId": "65588398-f732-4f4b-d1be-ed16bfcac788"
   },
   "outputs": [
    {
     "name": "stdout",
     "output_type": "stream",
     "text": [
      "[nltk_data] Downloading package wordnet to /root/nltk_data...\n",
      "[nltk_data]   Unzipping corpora/wordnet.zip.\n"
     ]
    },
    {
     "data": {
      "text/plain": [
       "799999             [love, healthuandpets, u, guys, r, best]\n",
       "800000    [im, meting, one, besties, tonight, cant, wait...\n",
       "800001    [darealsunisakim, thanks, twiter, ad, sunisa, ...\n",
       "800002    [sick, realy, cheap, hurts, much, eat, real, f...\n",
       "800003                      [lovesbroklyn, efect, everyone]\n",
       "Name: text, dtype: object"
      ]
     },
     "execution_count": 33,
     "metadata": {
      "tags": []
     },
     "output_type": "execute_result"
    }
   ],
   "source": [
    "# Applying Lemmatizer \n",
    "import nltk\n",
    "nltk.download('wordnet')\n",
    "\n",
    "lm = nltk.WordNetLemmatizer()\n",
    "def lemmatizer_on_text(data):\n",
    "    text = [lm.lemmatize(word) for word in data]\n",
    "    return(data)\n",
    "\n",
    "data_preproc1['text']=data_preproc1['text'].apply(lambda x: lemmatizer_on_text(x))\n",
    "data_preproc1['text'].head()"
   ]
  },
  {
   "cell_type": "markdown",
   "metadata": {
    "id": "Q31iYsHbELAw"
   },
   "source": [
    "### **Model Building, Compilation and Training**"
   ]
  },
  {
   "cell_type": "markdown",
   "metadata": {
    "id": "2J1iO1Olcqly"
   },
   "source": [
    "Approach1 - generated vectors using pre-trained embedding layer from TensorFlow hub\n",
    "\n"
   ]
  },
  {
   "cell_type": "code",
   "execution_count": 34,
   "metadata": {
    "id": "BsTAVUlsDwJL"
   },
   "outputs": [],
   "source": [
    "max_len = 500\n",
    "sequences_matrix_1 = sequence.pad_sequences(embeddings,maxlen=max_len)"
   ]
  },
  {
   "cell_type": "markdown",
   "metadata": {
    "id": "efEHNE5J4CiP"
   },
   "source": [
    "Approach2 - generated vectors using NLTK."
   ]
  },
  {
   "cell_type": "code",
   "execution_count": 35,
   "metadata": {
    "id": "W7QzL0Avkd31"
   },
   "outputs": [],
   "source": [
    "X=data.text\n",
    "y=data.sentiment\n",
    "\n",
    "max_len = 500\n",
    "tok = Tokenizer(num_words=2000)\n",
    "tok.fit_on_texts(X)\n",
    "sequences = tok.texts_to_sequences(X)\n",
    "sequences_matrix = sequence.pad_sequences(sequences,maxlen=max_len)"
   ]
  },
  {
   "cell_type": "markdown",
   "metadata": {
    "id": "y5sgUOZkcjHp"
   },
   "source": [
    "Separating the 70% data for training data and 30% for testing data\n",
    "*   70% of tweets will be used in the training\n",
    "*   30% of tweets will be used to test the performance of the model.\n"
   ]
  },
  {
   "cell_type": "code",
   "execution_count": 36,
   "metadata": {
    "id": "auvHNmiTFGik"
   },
   "outputs": [],
   "source": [
    "# Approach1\n",
    "X_train, X_test, Y_train, Y_test = train_test_split(sequences_matrix_1, y, test_size=0.3, random_state=2)\n",
    "\n",
    "# Approach2\n",
    "X_train1, X_test1, Y_train1, Y_test1 = train_test_split(sequences_matrix, y, test_size=0.3, random_state=2)"
   ]
  },
  {
   "cell_type": "markdown",
   "metadata": {
    "id": "SG5G2TeLc81Z"
   },
   "source": [
    "Printing the shapes of train and test data ( as mentioned in the assigment question) "
   ]
  },
  {
   "cell_type": "code",
   "execution_count": 37,
   "metadata": {
    "colab": {
     "base_uri": "https://localhost:8080/"
    },
    "id": "JIG5G16YNni4",
    "outputId": "4291fdc2-d2da-437d-8575-5b780ac28b0f"
   },
   "outputs": [
    {
     "data": {
      "text/plain": [
       "(28000, 500)"
      ]
     },
     "execution_count": 37,
     "metadata": {
      "tags": []
     },
     "output_type": "execute_result"
    }
   ],
   "source": [
    "X_train.shape"
   ]
  },
  {
   "cell_type": "code",
   "execution_count": 38,
   "metadata": {
    "colab": {
     "base_uri": "https://localhost:8080/"
    },
    "id": "U_nXuD-wOLNI",
    "outputId": "420941bf-33b6-4407-d835-386f0ee7e464"
   },
   "outputs": [
    {
     "data": {
      "text/plain": [
       "(28000,)"
      ]
     },
     "execution_count": 38,
     "metadata": {
      "tags": []
     },
     "output_type": "execute_result"
    }
   ],
   "source": [
    "Y_train.shape"
   ]
  },
  {
   "cell_type": "code",
   "execution_count": 39,
   "metadata": {
    "colab": {
     "base_uri": "https://localhost:8080/"
    },
    "id": "rFGEdpcVOQok",
    "outputId": "da4881e6-2e62-42d2-9b99-257d822ba813"
   },
   "outputs": [
    {
     "data": {
      "text/plain": [
       "(12000, 500)"
      ]
     },
     "execution_count": 39,
     "metadata": {
      "tags": []
     },
     "output_type": "execute_result"
    }
   ],
   "source": [
    "X_test.shape"
   ]
  },
  {
   "cell_type": "code",
   "execution_count": 40,
   "metadata": {
    "colab": {
     "base_uri": "https://localhost:8080/"
    },
    "id": "H8Axpyt4OTFR",
    "outputId": "bc97df6f-9e58-4f63-a8c6-a34fe1ff945d"
   },
   "outputs": [
    {
     "data": {
      "text/plain": [
       "(12000,)"
      ]
     },
     "execution_count": 40,
     "metadata": {
      "tags": []
     },
     "output_type": "execute_result"
    }
   ],
   "source": [
    "Y_test.shape"
   ]
  },
  {
   "cell_type": "code",
   "execution_count": 41,
   "metadata": {
    "colab": {
     "base_uri": "https://localhost:8080/"
    },
    "id": "IAy3Fcfg55kT",
    "outputId": "08ba585b-9a19-44c5-efaf-fa475ae796af"
   },
   "outputs": [
    {
     "data": {
      "text/plain": [
       "(28000, 500)"
      ]
     },
     "execution_count": 41,
     "metadata": {
      "tags": []
     },
     "output_type": "execute_result"
    }
   ],
   "source": [
    "X_train1.shape"
   ]
  },
  {
   "cell_type": "code",
   "execution_count": 42,
   "metadata": {
    "colab": {
     "base_uri": "https://localhost:8080/"
    },
    "id": "500nS32K6CsM",
    "outputId": "76523f80-f471-42c0-c3a1-451b0c0911fd"
   },
   "outputs": [
    {
     "data": {
      "text/plain": [
       "(28000,)"
      ]
     },
     "execution_count": 42,
     "metadata": {
      "tags": []
     },
     "output_type": "execute_result"
    }
   ],
   "source": [
    "Y_train1.shape"
   ]
  },
  {
   "cell_type": "code",
   "execution_count": 43,
   "metadata": {
    "colab": {
     "base_uri": "https://localhost:8080/"
    },
    "id": "KEe96Gsv6C8d",
    "outputId": "5785241d-93df-4a29-88d5-6622ace2634b"
   },
   "outputs": [
    {
     "data": {
      "text/plain": [
       "(12000, 500)"
      ]
     },
     "execution_count": 43,
     "metadata": {
      "tags": []
     },
     "output_type": "execute_result"
    }
   ],
   "source": [
    "X_test1.shape"
   ]
  },
  {
   "cell_type": "code",
   "execution_count": 44,
   "metadata": {
    "colab": {
     "base_uri": "https://localhost:8080/"
    },
    "id": "_LUYYI7q6DNE",
    "outputId": "016dc7a5-522d-4ce5-d17c-d51b679d94a8"
   },
   "outputs": [
    {
     "data": {
      "text/plain": [
       "(12000,)"
      ]
     },
     "execution_count": 44,
     "metadata": {
      "tags": []
     },
     "output_type": "execute_result"
    }
   ],
   "source": [
    "Y_test1.shape"
   ]
  },
  {
   "cell_type": "markdown",
   "metadata": {
    "id": "OIIQfNT1dMsc"
   },
   "source": [
    "\n",
    "**Model 1**\n",
    "*  Sequential Model layers - 3 hidden layers with appropriate input for each.\n",
    "*  Added L2 regularization to all the layers\n",
    "*  Added activation function for all the layers\n",
    "*  Selected appropriate activation function for all the layers.\n",
    "*  Added one layer of dropout\n",
    "*  Printed model summary\n",
    "\n",
    "Hyperparamters tunning\n",
    "\n",
    "*   batch_size=80 \n",
    "*   Dropout: 0.2 at hidden layer1 (to prevent overfitting)\n",
    "*   epochs=6\n",
    "*   L2 regularization : 0.1\n",
    "*   optimizer=RMSprop\n",
    "\n",
    "\n",
    "Approach 2 : generated input data using NLTK.\n",
    "\n",
    "\n",
    "Batch size =80 so the model takes 80 tweets in each iteration and train them.\n",
    "\n",
    "Epochs = 6 so the model will train on the data 6 times"
   ]
  },
  {
   "cell_type": "code",
   "execution_count": 45,
   "metadata": {
    "colab": {
     "base_uri": "https://localhost:8080/",
     "height": 985
    },
    "id": "u-6yZ7Obth_-",
    "outputId": "7b7850b7-3281-4db5-8270-bee913099d36"
   },
   "outputs": [
    {
     "name": "stdout",
     "output_type": "stream",
     "text": [
      "Epoch 1/6\n",
      "WARNING:tensorflow:Model was constructed with shape (None, 80, 500) for input KerasTensor(type_spec=TensorSpec(shape=(None, 80, 500), dtype=tf.float32, name='input_input'), name='input_input', description=\"created by layer 'input_input'\"), but it was called on an input with incompatible shape (80, 500).\n"
     ]
    },
    {
     "name": "stderr",
     "output_type": "stream",
     "text": [
      "WARNING:tensorflow:Model was constructed with shape (None, 80, 500) for input KerasTensor(type_spec=TensorSpec(shape=(None, 80, 500), dtype=tf.float32, name='input_input'), name='input_input', description=\"created by layer 'input_input'\"), but it was called on an input with incompatible shape (80, 500).\n"
     ]
    },
    {
     "name": "stdout",
     "output_type": "stream",
     "text": [
      "WARNING:tensorflow:Model was constructed with shape (None, 80, 500) for input KerasTensor(type_spec=TensorSpec(shape=(None, 80, 500), dtype=tf.float32, name='input_input'), name='input_input', description=\"created by layer 'input_input'\"), but it was called on an input with incompatible shape (80, 500).\n"
     ]
    },
    {
     "name": "stderr",
     "output_type": "stream",
     "text": [
      "WARNING:tensorflow:Model was constructed with shape (None, 80, 500) for input KerasTensor(type_spec=TensorSpec(shape=(None, 80, 500), dtype=tf.float32, name='input_input'), name='input_input', description=\"created by layer 'input_input'\"), but it was called on an input with incompatible shape (80, 500).\n"
     ]
    },
    {
     "name": "stdout",
     "output_type": "stream",
     "text": [
      "312/315 [============================>.] - ETA: 0s - loss: 8.4266 - accuracy: 0.4985WARNING:tensorflow:Model was constructed with shape (None, 80, 500) for input KerasTensor(type_spec=TensorSpec(shape=(None, 80, 500), dtype=tf.float32, name='input_input'), name='input_input', description=\"created by layer 'input_input'\"), but it was called on an input with incompatible shape (80, 500).\n"
     ]
    },
    {
     "name": "stderr",
     "output_type": "stream",
     "text": [
      "WARNING:tensorflow:Model was constructed with shape (None, 80, 500) for input KerasTensor(type_spec=TensorSpec(shape=(None, 80, 500), dtype=tf.float32, name='input_input'), name='input_input', description=\"created by layer 'input_input'\"), but it was called on an input with incompatible shape (80, 500).\n"
     ]
    },
    {
     "name": "stdout",
     "output_type": "stream",
     "text": [
      "315/315 [==============================] - 5s 4ms/step - loss: 8.4225 - accuracy: 0.4983 - val_loss: 7.6080 - val_accuracy: 0.5093\n",
      "Epoch 2/6\n",
      "315/315 [==============================] - 1s 3ms/step - loss: 7.2348 - accuracy: 0.5021 - val_loss: 6.4142 - val_accuracy: 0.5057\n",
      "Epoch 3/6\n",
      "315/315 [==============================] - 1s 3ms/step - loss: 4.6334 - accuracy: 0.5031 - val_loss: 1.0225 - val_accuracy: 0.4954\n",
      "Epoch 4/6\n",
      "315/315 [==============================] - 1s 3ms/step - loss: 0.7644 - accuracy: 0.4993 - val_loss: 0.6988 - val_accuracy: 0.5132\n",
      "Epoch 5/6\n",
      "315/315 [==============================] - 1s 3ms/step - loss: 0.7052 - accuracy: 0.5011 - val_loss: 0.6972 - val_accuracy: 0.4946\n",
      "Epoch 6/6\n",
      "315/315 [==============================] - 1s 3ms/step - loss: 0.7003 - accuracy: 0.5061 - val_loss: 0.6964 - val_accuracy: 0.5139\n",
      "Training finished !!\n",
      "Model: \"sequential_1\"\n",
      "_________________________________________________________________\n",
      "Layer (type)                 Output Shape              Param #   \n",
      "=================================================================\n",
      "input (Dense)                (None, 80, 25)            12525     \n",
      "_________________________________________________________________\n",
      "hidden_layer1 (Dense)        (None, 80, 250)           6500      \n",
      "_________________________________________________________________\n",
      "hidden_layer2 (Dense)        (None, 80, 128)           32128     \n",
      "_________________________________________________________________\n",
      "hidden_layer3 (Dense)        (None, 80, 64)            8256      \n",
      "_________________________________________________________________\n",
      "dropout_1 (Dropout)          (None, 80, 64)            0         \n",
      "_________________________________________________________________\n",
      "output (Dense)               (None, 80, 1)             65        \n",
      "=================================================================\n",
      "Total params: 59,474\n",
      "Trainable params: 59,474\n",
      "Non-trainable params: 0\n",
      "_________________________________________________________________\n",
      "dict_keys(['loss', 'accuracy', 'val_loss', 'val_accuracy'])\n"
     ]
    },
    {
     "data": {
      "text/plain": [
       "[<matplotlib.lines.Line2D at 0x7f063a7dcb50>]"
      ]
     },
     "execution_count": 45,
     "metadata": {
      "tags": []
     },
     "output_type": "execute_result"
    },
    {
     "data": {
      "image/png": "[encoded data removed]",
      "text/plain": [
       "<Figure size 432x288 with 1 Axes>"
      ]
     },
     "metadata": {
      "tags": []
     },
     "output_type": "display_data"
    }
   ],
   "source": [
    "import tensorflow as tf\n",
    "from tensorflow import keras\n",
    "from tensorflow.keras import layers\n",
    "\n",
    "# Define Sequential model with 3 layers\n",
    "model1 = keras.Sequential(\n",
    "    [\n",
    "        layers.Dense(25, input_shape=(80, 500), name=\"input\"),\n",
    "        layers.Dense(250, kernel_regularizer=tf.keras.regularizers.L2(0.01), activation=\"relu\", name=\"hidden_layer1\"),\n",
    "        layers.Dense(128, kernel_regularizer=tf.keras.regularizers.L2(0.01), activation=\"relu\", name=\"hidden_layer2\"),\n",
    "        layers.Dense(64, kernel_regularizer=tf.keras.regularizers.L2(0.01), activation=\"relu\", name=\"hidden_layer3\"),\n",
    "        layers.Dropout(0.2),\n",
    "        layers.Dense(1, kernel_regularizer=tf.keras.regularizers.L2(0.01), name=\"output\"),\n",
    "    ]\n",
    ")\n",
    "model1.compile(loss='binary_crossentropy',optimizer=RMSprop(),metrics=['accuracy'])\n",
    "history=model1.fit(X_train1,Y_train1,batch_size=80,epochs=6, validation_split=0.1)# here we are starting the training of model by feeding the training data\n",
    "print('Training finished !!')\n",
    "model1.summary()\n",
    "\n",
    "# list all data in history\n",
    "print(history.history.keys())\n",
    "# summarize history for accuracy\n",
    "plt.plot(history.history['accuracy'])\n"
   ]
  },
  {
   "cell_type": "markdown",
   "metadata": {
    "id": "_c9hblgf5yMP"
   },
   "source": [
    "**Model 2**\n",
    "*  Sequential Model layers - 5 hidden layers with appropriate input for each.\n",
    "*  Added L2 regularization to all the layers\n",
    "*  Added activation function for all the layers\n",
    "*  Selected appropriate activation function for all the layers.\n",
    "*  Added one layer of dropout\n",
    "*  Printed model summary\n",
    "\n",
    "Hyperparamters tunning\n",
    "\n",
    "*   batch_size=40 \n",
    "*   Dropout: 0.2 at hidden layer2 (to prevent overfitting)\n",
    "*   epochs=8\n",
    "*   L2 regularization : 0.01\n",
    "*   optimizer=adam\n",
    "\n",
    "Approach 2 : generated input data using NLTK."
   ]
  },
  {
   "cell_type": "code",
   "execution_count": 50,
   "metadata": {
    "colab": {
     "base_uri": "https://localhost:8080/",
     "height": 1000
    },
    "id": "mGHADv2i5xYr",
    "outputId": "9e2cb221-cba2-45c1-e5e4-76041ad09bc0"
   },
   "outputs": [
    {
     "name": "stdout",
     "output_type": "stream",
     "text": [
      "Epoch 1/8\n",
      "WARNING:tensorflow:Model was constructed with shape (None, 40, 500) for input KerasTensor(type_spec=TensorSpec(shape=(None, 40, 500), dtype=tf.float32, name='input_input'), name='input_input', description=\"created by layer 'input_input'\"), but it was called on an input with incompatible shape (40, 500).\n"
     ]
    },
    {
     "name": "stderr",
     "output_type": "stream",
     "text": [
      "WARNING:tensorflow:Model was constructed with shape (None, 40, 500) for input KerasTensor(type_spec=TensorSpec(shape=(None, 40, 500), dtype=tf.float32, name='input_input'), name='input_input', description=\"created by layer 'input_input'\"), but it was called on an input with incompatible shape (40, 500).\n"
     ]
    },
    {
     "name": "stdout",
     "output_type": "stream",
     "text": [
      "WARNING:tensorflow:Model was constructed with shape (None, 40, 500) for input KerasTensor(type_spec=TensorSpec(shape=(None, 40, 500), dtype=tf.float32, name='input_input'), name='input_input', description=\"created by layer 'input_input'\"), but it was called on an input with incompatible shape (40, 500).\n"
     ]
    },
    {
     "name": "stderr",
     "output_type": "stream",
     "text": [
      "WARNING:tensorflow:Model was constructed with shape (None, 40, 500) for input KerasTensor(type_spec=TensorSpec(shape=(None, 40, 500), dtype=tf.float32, name='input_input'), name='input_input', description=\"created by layer 'input_input'\"), but it was called on an input with incompatible shape (40, 500).\n"
     ]
    },
    {
     "name": "stdout",
     "output_type": "stream",
     "text": [
      "630/630 [==============================] - ETA: 0s - loss: 9.2243 - accuracy: 0.4967WARNING:tensorflow:Model was constructed with shape (None, 40, 500) for input KerasTensor(type_spec=TensorSpec(shape=(None, 40, 500), dtype=tf.float32, name='input_input'), name='input_input', description=\"created by layer 'input_input'\"), but it was called on an input with incompatible shape (40, 500).\n"
     ]
    },
    {
     "name": "stderr",
     "output_type": "stream",
     "text": [
      "WARNING:tensorflow:Model was constructed with shape (None, 40, 500) for input KerasTensor(type_spec=TensorSpec(shape=(None, 40, 500), dtype=tf.float32, name='input_input'), name='input_input', description=\"created by layer 'input_input'\"), but it was called on an input with incompatible shape (40, 500).\n"
     ]
    },
    {
     "name": "stdout",
     "output_type": "stream",
     "text": [
      "630/630 [==============================] - 2s 3ms/step - loss: 9.2243 - accuracy: 0.4967 - val_loss: 8.8258 - val_accuracy: 0.4946\n",
      "Epoch 2/8\n",
      "630/630 [==============================] - 2s 3ms/step - loss: 8.4230 - accuracy: 0.5034 - val_loss: 8.2058 - val_accuracy: 0.5054\n",
      "Epoch 3/8\n",
      "630/630 [==============================] - 2s 3ms/step - loss: 6.6632 - accuracy: 0.5008 - val_loss: 1.5818 - val_accuracy: 0.4968\n",
      "Epoch 4/8\n",
      "630/630 [==============================] - 2s 3ms/step - loss: 1.2621 - accuracy: 0.5083 - val_loss: 1.1230 - val_accuracy: 0.5139\n",
      "Epoch 5/8\n",
      "630/630 [==============================] - 2s 3ms/step - loss: 1.0604 - accuracy: 0.5110 - val_loss: 1.0022 - val_accuracy: 0.5096\n",
      "Epoch 6/8\n",
      "630/630 [==============================] - 2s 3ms/step - loss: 0.9589 - accuracy: 0.5125 - val_loss: 0.9218 - val_accuracy: 0.4996\n",
      "Epoch 7/8\n",
      "630/630 [==============================] - 2s 3ms/step - loss: 0.8895 - accuracy: 0.5154 - val_loss: 0.8624 - val_accuracy: 0.5011\n",
      "Epoch 8/8\n",
      "630/630 [==============================] - 2s 3ms/step - loss: 0.8413 - accuracy: 0.5144 - val_loss: 0.8227 - val_accuracy: 0.5014\n",
      "Training finished !!\n",
      "Model: \"sequential_6\"\n",
      "_________________________________________________________________\n",
      "Layer (type)                 Output Shape              Param #   \n",
      "=================================================================\n",
      "input (Dense)                (None, 40, 30)            15030     \n",
      "_________________________________________________________________\n",
      "hidden_layer1 (Dense)        (None, 40, 256)           7936      \n",
      "_________________________________________________________________\n",
      "hidden_layer2 (Dense)        (None, 40, 124)           31868     \n",
      "_________________________________________________________________\n",
      "dropout_6 (Dropout)          (None, 40, 124)           0         \n",
      "_________________________________________________________________\n",
      "hidden_layer3 (Dense)        (None, 40, 64)            8000      \n",
      "_________________________________________________________________\n",
      "hidden_layer4 (Dense)        (None, 40, 32)            2080      \n",
      "_________________________________________________________________\n",
      "hidden_layer5 (Dense)        (None, 40, 16)            528       \n",
      "_________________________________________________________________\n",
      "output (Dense)               (None, 40, 1)             17        \n",
      "=================================================================\n",
      "Total params: 65,459\n",
      "Trainable params: 65,459\n",
      "Non-trainable params: 0\n",
      "_________________________________________________________________\n",
      "dict_keys(['loss', 'accuracy', 'val_loss', 'val_accuracy'])\n"
     ]
    },
    {
     "data": {
      "text/plain": [
       "[<matplotlib.lines.Line2D at 0x7f062c99b0d0>]"
      ]
     },
     "execution_count": 50,
     "metadata": {
      "tags": []
     },
     "output_type": "execute_result"
    },
    {
     "data": {
      "image/png": "[encoded data removed]",
      "text/plain": [
       "<Figure size 432x288 with 1 Axes>"
      ]
     },
     "metadata": {
      "tags": []
     },
     "output_type": "display_data"
    }
   ],
   "source": [
    "# Define Sequential model with 5 layers\n",
    "model2 = keras.Sequential(\n",
    "    [\n",
    "        layers.Dense(30, input_shape=(40, 500), name=\"input\"),\n",
    "        layers.Dense(256, kernel_regularizer=tf.keras.regularizers.L2(0.01), activation=\"relu\", name=\"hidden_layer1\"),\n",
    "        layers.Dense(124, kernel_regularizer=tf.keras.regularizers.L2(0.01), activation=\"relu\", name=\"hidden_layer2\"),\n",
    "        layers.Dropout(0.2),\n",
    "        layers.Dense(64, kernel_regularizer=tf.keras.regularizers.L2(0.01), activation=\"relu\", name=\"hidden_layer3\"),\n",
    "        layers.Dense(32, kernel_regularizer=tf.keras.regularizers.L2(0.01), activation=\"relu\", name=\"hidden_layer4\"),\n",
    "        layers.Dense(16, kernel_regularizer=tf.keras.regularizers.L2(0.01), activation=\"relu\", name=\"hidden_layer5\"),\n",
    "        layers.Dense(1, kernel_regularizer=tf.keras.regularizers.L2(0.01), name=\"output\"),\n",
    "    ]\n",
    ")\n",
    "model2.compile(loss='binary_crossentropy',optimizer=\"adam\",metrics=['accuracy'])\n",
    "history=model2.fit(X_train1,Y_train1,batch_size=40,epochs=8, validation_split=0.1)# here we are starting the training of model by feeding the training data\n",
    "print('Training finished !!')\n",
    "model2.summary()\n",
    "\n",
    "# list all data in history\n",
    "print(history.history.keys())\n",
    "# summarize history for accuracy\n",
    "plt.plot(history.history['accuracy'])\n"
   ]
  },
  {
   "cell_type": "markdown",
   "metadata": {
    "id": "JTw_LMjs8S_q"
   },
   "source": [
    "**Model 3**\n",
    "*  Sequential Model layers - 3 hidden layers with appropriate input for each.\n",
    "*  Added L2 regularization to all the layers\n",
    "*  Added activation function for all the layers\n",
    "*  Selected appropriate activation function for all the layers.\n",
    "*  Added one layer of dropout\n",
    "*  Printed model summary\n",
    "\n",
    "Hyperparamters tunning\n",
    "\n",
    "*   batch_size=80 \n",
    "*   Dropout: 0.1 at hidden layer1 (to prevent overfitting)\n",
    "*   epochs=6\n",
    "*   L2 regularization : 0.01\n",
    "*   optimizer=RMSprop\n",
    "\n",
    "Approach 1 : generated input data  using pre-trained embedding layer from TensorFlow hub.\n",
    "\n",
    "Batch size =80 so the model takes 80 tweets in each iteration and train them.\n",
    "\n",
    "Epochs = 6 so the model will train on the data 6 times"
   ]
  },
  {
   "cell_type": "code",
   "execution_count": 52,
   "metadata": {
    "colab": {
     "base_uri": "https://localhost:8080/",
     "height": 829
    },
    "id": "vxcoODzRFXyT",
    "outputId": "e4acddb0-2567-4b6e-bb82-f4c25f262533"
   },
   "outputs": [
    {
     "name": "stdout",
     "output_type": "stream",
     "text": [
      "Epoch 1/6\n",
      "315/315 [==============================] - 2s 4ms/step - loss: 1.1281 - accuracy: 0.4944 - val_loss: 0.6936 - val_accuracy: 0.4946\n",
      "Epoch 2/6\n",
      "315/315 [==============================] - 1s 3ms/step - loss: 0.6936 - accuracy: 0.4961 - val_loss: 0.6936 - val_accuracy: 0.5054\n",
      "Epoch 3/6\n",
      "315/315 [==============================] - 1s 3ms/step - loss: 0.6936 - accuracy: 0.4995 - val_loss: 0.6936 - val_accuracy: 0.5054\n",
      "Epoch 4/6\n",
      "315/315 [==============================] - 1s 3ms/step - loss: 0.6936 - accuracy: 0.4981 - val_loss: 0.6936 - val_accuracy: 0.5054\n",
      "Epoch 5/6\n",
      "315/315 [==============================] - 1s 3ms/step - loss: 0.6936 - accuracy: 0.4992 - val_loss: 0.6936 - val_accuracy: 0.4946\n",
      "Epoch 6/6\n",
      "315/315 [==============================] - 1s 3ms/step - loss: 0.6936 - accuracy: 0.5002 - val_loss: 0.6936 - val_accuracy: 0.4946\n",
      "Training finished !!\n",
      "Model: \"3_hidden_layer_mlp\"\n",
      "_________________________________________________________________\n",
      "Layer (type)                 Output Shape              Param #   \n",
      "=================================================================\n",
      "input (Dense)                multiple                  15030     \n",
      "_________________________________________________________________\n",
      "hidden_layer1 (Dense)        multiple                  15872     \n",
      "_________________________________________________________________\n",
      "hidden_layer2 (Dense)        multiple                  131328    \n",
      "_________________________________________________________________\n",
      "hidden_layer3 (Dense)        multiple                  32896     \n",
      "_________________________________________________________________\n",
      "predictions (Dense)          multiple                  129       \n",
      "=================================================================\n",
      "Total params: 195,255\n",
      "Trainable params: 195,255\n",
      "Non-trainable params: 0\n",
      "_________________________________________________________________\n",
      "dict_keys(['loss', 'accuracy', 'val_loss', 'val_accuracy'])\n"
     ]
    },
    {
     "data": {
      "text/plain": [
       "[<matplotlib.lines.Line2D at 0x7f062ce5c350>]"
      ]
     },
     "execution_count": 52,
     "metadata": {
      "tags": []
     },
     "output_type": "execute_result"
    },
    {
     "data": {
      "image/png": "[encoded data removed]",
      "text/plain": [
       "<Figure size 432x288 with 1 Axes>"
      ]
     },
     "metadata": {
      "tags": []
     },
     "output_type": "display_data"
    }
   ],
   "source": [
    "class ThreeLayerMLP(keras.Model):\n",
    "\n",
    "  def __init__(self, name=None):\n",
    "    super(ThreeLayerMLP, self).__init__(name=name)\n",
    "    self.dense_1 = layers.Dense(30,kernel_regularizer=tf.keras.regularizers.L2(0.01),input_shape=(2000,50), name='input')\n",
    "    self.dense_2 = layers.Dense(512, kernel_regularizer=tf.keras.regularizers.L2(0.01),activation='relu', name='hidden_layer1')\n",
    "    layers.Dropout(0.1)\n",
    "    self.dense_3 = layers.Dense(256, kernel_regularizer=tf.keras.regularizers.L2(0.01),activation='relu', name='hidden_layer2')\n",
    "    self.dense_4 = layers.Dense(128, kernel_regularizer=tf.keras.regularizers.L2(0.01),activation='relu', name='hidden_layer3')\n",
    " \n",
    "    self.pred_layer = layers.Dense(1,kernel_regularizer=tf.keras.regularizers.L2(0.01), activation='sigmoid',name='predictions')\n",
    "\n",
    "  def call(self, inputs):\n",
    "    x = self.dense_1(inputs)\n",
    "    x = self.dense_2(x)\n",
    "    x = self.dense_3(x)\n",
    "    x = self.dense_4(x)\n",
    "    return self.pred_layer(x)\n",
    "\n",
    "def get_model():\n",
    "  return ThreeLayerMLP(name='3_hidden_layer_mlp')\n",
    "\n",
    "model3 = get_model()\n",
    "model3.compile(loss='binary_crossentropy',optimizer=RMSprop(),metrics=['accuracy'])\n",
    "history=model3.fit(X_train,Y_train,batch_size=80,epochs=6, validation_split=0.1)# here we are starting the training of model by feeding the training data\n",
    "print('Training finished !!')\n",
    "model3.summary()\n",
    "\n",
    "# list all data in history\n",
    "print(history.history.keys())\n",
    "# summarize history for accuracy\n",
    "plt.plot(history.history['accuracy'])"
   ]
  },
  {
   "cell_type": "markdown",
   "metadata": {
    "id": "lLZFnIdzCv3l"
   },
   "source": [
    "**Model 4**\n",
    "*  Sequential Model layers - 5 hidden layers with appropriate input for each.\n",
    "*  Added L2 regularization.\n",
    "*  Added activation function for all the layers\n",
    "*  Selected appropriate activation function for all the layers.\n",
    "*  Added  dropout layers\n",
    "*  Printed model summary\n",
    "\n",
    "Hyperparamters tunning\n",
    "\n",
    "*   batch_size=40 \n",
    "*   Dropout: 0.1 at hidden layer2 (to prevent overfitting)\n",
    "*   epochs=8\n",
    "*   L2 regularization : 0.01\n",
    "*   optimizer=adam\n",
    "\n",
    "Approach 2 : generated input data using NLTK.\n",
    "\n",
    "Batch size = 40 so the model takes 40 tweets in each iteration and train them.\n",
    "\n",
    "Epochs = 10 so the model will train on the data 10 times"
   ]
  },
  {
   "cell_type": "code",
   "execution_count": 60,
   "metadata": {
    "colab": {
     "base_uri": "https://localhost:8080/",
     "height": 965
    },
    "id": "AnG_oZrrC8WP",
    "outputId": "47b4942b-baee-48bc-c767-229c4575f5f2"
   },
   "outputs": [
    {
     "name": "stdout",
     "output_type": "stream",
     "text": [
      "Epoch 1/8\n",
      "280/280 [==============================] - 1s 3ms/step - loss: 3.1484 - accuracy: 0.5091 - val_loss: 2.2037 - val_accuracy: 0.5286\n",
      "Epoch 2/8\n",
      "280/280 [==============================] - 1s 3ms/step - loss: 1.7886 - accuracy: 0.5162 - val_loss: 1.4699 - val_accuracy: 0.5179\n",
      "Epoch 3/8\n",
      "280/280 [==============================] - 1s 3ms/step - loss: 1.2781 - accuracy: 0.5127 - val_loss: 1.1223 - val_accuracy: 0.5154\n",
      "Epoch 4/8\n",
      "280/280 [==============================] - 1s 3ms/step - loss: 1.0222 - accuracy: 0.5194 - val_loss: 0.9399 - val_accuracy: 0.5204\n",
      "Epoch 5/8\n",
      "280/280 [==============================] - 1s 3ms/step - loss: 0.8855 - accuracy: 0.5175 - val_loss: 0.8401 - val_accuracy: 0.5204\n",
      "Epoch 6/8\n",
      "280/280 [==============================] - 1s 3ms/step - loss: 0.8097 - accuracy: 0.5108 - val_loss: 0.7838 - val_accuracy: 0.5204\n",
      "Epoch 7/8\n",
      "280/280 [==============================] - 1s 3ms/step - loss: 0.7664 - accuracy: 0.5148 - val_loss: 0.7516 - val_accuracy: 0.5125\n",
      "Epoch 8/8\n",
      "280/280 [==============================] - 1s 3ms/step - loss: 0.7412 - accuracy: 0.5113 - val_loss: 0.7321 - val_accuracy: 0.5271\n",
      "Training finished !!\n",
      "Model: \"5_layer_mlp\"\n",
      "_________________________________________________________________\n",
      "Layer (type)                 Output Shape              Param #   \n",
      "=================================================================\n",
      "input (Dense)                multiple                  10020     \n",
      "_________________________________________________________________\n",
      "hidden_1 (Dense)             multiple                  5376      \n",
      "_________________________________________________________________\n",
      "hidden_2 (Dense)             multiple                  32896     \n",
      "_________________________________________________________________\n",
      "hidden_3 (Dense)             multiple                  8256      \n",
      "_________________________________________________________________\n",
      "hidden_4 (Dense)             multiple                  2080      \n",
      "_________________________________________________________________\n",
      "hidden_5 (Dense)             multiple                  528       \n",
      "_________________________________________________________________\n",
      "predictions (Dense)          multiple                  17        \n",
      "=================================================================\n",
      "Total params: 59,173\n",
      "Trainable params: 59,173\n",
      "Non-trainable params: 0\n",
      "_________________________________________________________________\n",
      "dict_keys(['loss', 'accuracy', 'val_loss', 'val_accuracy'])\n"
     ]
    },
    {
     "data": {
      "text/plain": [
       "[<matplotlib.lines.Line2D at 0x7f062817ce50>]"
      ]
     },
     "execution_count": 60,
     "metadata": {
      "tags": []
     },
     "output_type": "execute_result"
    },
    {
     "data": {
      "image/png": "[encoded data removed]",
      "text/plain": [
       "<Figure size 432x288 with 1 Axes>"
      ]
     },
     "metadata": {
      "tags": []
     },
     "output_type": "display_data"
    }
   ],
   "source": [
    "class FiveLayerMLP(keras.Model):\n",
    "\n",
    "  def __init__(self, name=None):\n",
    "    super(FiveLayerMLP, self).__init__(name=name)\n",
    "    self.dense_1 = layers.Dense(20,input_shape=(2000,50), name='input')\n",
    "    self.dense_2 = layers.Dense(256, kernel_regularizer=tf.keras.regularizers.L2(0.01),activation='relu', name='hidden_1')\n",
    "    self.dense_3 = layers.Dense(128, kernel_regularizer=tf.keras.regularizers.L2(0.01),activation='relu', name='hidden_2')\n",
    "    layers.Dropout(0.01)\n",
    "    self.dense_4 = layers.Dense(64, kernel_regularizer=tf.keras.regularizers.L2(0.01),activation='relu', name='hidden_3')\n",
    "    self.dense_5 = layers.Dense(32, kernel_regularizer=tf.keras.regularizers.L2(0.01),activation='relu', name='hidden_4')\n",
    "    self.dense_6 = layers.Dense(16, kernel_regularizer=tf.keras.regularizers.L2(0.02),activation='relu', name='hidden_5')\n",
    "    self.pred_layer = layers.Dense(1, activation='sigmoid',name='predictions')\n",
    "\n",
    "  def call(self, inputs):\n",
    "    x = self.dense_1(inputs)\n",
    "    x = self.dense_2(x)\n",
    "    x = self.dense_3(x)\n",
    "    x = self.dense_4(x)\n",
    "    x = self.dense_5(x)\n",
    "    x = self.dense_6(x)\n",
    "    return self.pred_layer(x)\n",
    "\n",
    "def get_model4():\n",
    "  return FiveLayerMLP(name='5_layer_mlp')\n",
    "\n",
    "model4 = get_model4()\n",
    "model4.compile(loss='binary_crossentropy',optimizer=\"adam\",metrics=['accuracy'])\n",
    "history=model4.fit(X_train1,Y_train1,batch_size=90,epochs=8, validation_split=0.1)# here we are starting the training of model by feeding the training data\n",
    "print('Training finished !!')\n",
    "model4.summary()\n",
    "\n",
    "# list all data in history\n",
    "print(history.history.keys())\n",
    "# summarize history for accuracy\n",
    "plt.plot(history.history['accuracy'])"
   ]
  },
  {
   "cell_type": "markdown",
   "metadata": {
    "id": "gKcBBfEx8tf_"
   },
   "source": [
    "**Model 5**\n",
    "*  LSTM is used.\n",
    "*  Added activation function for all the layers\n",
    "*  Selected appropriate activation function for all the layers.\n",
    "*  Added one layer of dropout\n",
    "*  Printed model summary\n",
    "\n",
    "Hyperparamters tunning\n",
    "\n",
    "*   batch_size=80 \n",
    "*   Dropout: 0.5 at hidden layer1 (to prevent overfitting)\n",
    "*   epochs=6\n",
    "*   optimizer=RMSprop\n",
    "\n",
    "Approach 2 : generated input data using NLTK.\n"
   ]
  },
  {
   "cell_type": "code",
   "execution_count": null,
   "metadata": {
    "colab": {
     "base_uri": "https://localhost:8080/",
     "height": 758
    },
    "id": "eyptwJMUMPY9",
    "outputId": "33c1c1f2-41b7-46e8-fd36-4430d10276c2"
   },
   "outputs": [
    {
     "name": "stdout",
     "output_type": "stream",
     "text": [
      "Epoch 1/6\n",
      "315/315 [==============================] - 9s 25ms/step - loss: 0.5765 - accuracy: 0.6878 - val_loss: 0.5260 - val_accuracy: 0.7339\n",
      "Epoch 2/6\n",
      "315/315 [==============================] - 7s 24ms/step - loss: 0.4996 - accuracy: 0.7588 - val_loss: 0.5183 - val_accuracy: 0.7482\n",
      "Epoch 3/6\n",
      "315/315 [==============================] - 7s 23ms/step - loss: 0.4808 - accuracy: 0.7681 - val_loss: 0.5291 - val_accuracy: 0.7511\n",
      "Epoch 4/6\n",
      "315/315 [==============================] - 7s 23ms/step - loss: 0.4614 - accuracy: 0.7776 - val_loss: 0.5418 - val_accuracy: 0.7371\n",
      "Epoch 5/6\n",
      "315/315 [==============================] - 7s 23ms/step - loss: 0.4356 - accuracy: 0.7881 - val_loss: 0.5776 - val_accuracy: 0.7332\n",
      "Epoch 6/6\n",
      "315/315 [==============================] - 8s 24ms/step - loss: 0.4131 - accuracy: 0.7979 - val_loss: 0.6083 - val_accuracy: 0.7250\n",
      "Training finished !!\n",
      "Model: \"3_layer_mlp\"\n",
      "_________________________________________________________________\n",
      "Layer (type)                 Output Shape              Param #   \n",
      "=================================================================\n",
      "input (Dense)                multiple                  5010      \n",
      "_________________________________________________________________\n",
      "dense_2 (Dense)              multiple                  660       \n",
      "_________________________________________________________________\n",
      "predictions (Dense)          multiple                  61        \n",
      "=================================================================\n",
      "Total params: 5,731\n",
      "Trainable params: 5,731\n",
      "Non-trainable params: 0\n",
      "_________________________________________________________________\n",
      "dict_keys(['loss', 'accuracy', 'val_loss', 'val_accuracy'])\n"
     ]
    },
    {
     "data": {
      "text/plain": [
       "[<matplotlib.lines.Line2D at 0x7f22c95daa10>]"
      ]
     },
     "execution_count": 77,
     "metadata": {
      "tags": []
     },
     "output_type": "execute_result"
    },
    {
     "data": {
      "image/png": "[encoded data removed]",
      "text/plain": [
       "<Figure size 432x288 with 1 Axes>"
      ]
     },
     "metadata": {
      "needs_background": "light",
      "tags": []
     },
     "output_type": "display_data"
    }
   ],
   "source": [
    "from tensorflow.keras.layers import LSTM\n",
    "def tensorflow_based_model(): #Defined tensorflow_based_model function for training tenforflow based model\n",
    "    inputs = Input(name='inputs',shape=[max_len])\n",
    "    layer = Embedding(2000,50,input_length=max_len)(inputs) \n",
    "    layer = LSTM(64)(layer) \n",
    "    layer = Dense(256,name='FC1')(layer) \n",
    "    layer = Activation('relu')(layer) \n",
    "    layer = Dropout(0.5)(layer) \n",
    "    layer = Dense(1,name='out_layer')(layer) #step4 again but this time its giving only one output as because we need to classify the tweet as positive or negative\n",
    "    layer = Activation('sigmoid')(layer) #step5 but this time activation function is sigmoid for only one output.\n",
    "    model = Model(inputs=inputs,outputs=layer) #here we are getting the final output value in the model for classification\n",
    "    return model #function returning the value when we call it\n",
    "\n",
    "model5 = tensorflow_based_model()\n",
    "model5.compile(loss='binary_crossentropy',optimizer='adam',metrics=['accuracy'])\n",
    "history=model5.fit(X_train1,Y_train1,batch_size=80,epochs=6, validation_split=0.1)# here we are starting the training of model by feeding the training data\n",
    "print('Training finished !!')\n",
    "model3.summary()\n",
    "\n",
    "# list all data in history\n",
    "print(history.history.keys())\n",
    "# summarize history for accuracy\n",
    "plt.plot(history.history['accuracy'])\n"
   ]
  },
  {
   "cell_type": "markdown",
   "metadata": {
    "id": "U3Ng_AlhGWNv"
   },
   "source": [
    "### **Model Evaluation** "
   ]
  },
  {
   "cell_type": "markdown",
   "metadata": {
    "id": "gInyjVt4B7UD"
   },
   "source": [
    "**Model4**"
   ]
  },
  {
   "cell_type": "code",
   "execution_count": 61,
   "metadata": {
    "colab": {
     "base_uri": "https://localhost:8080/"
    },
    "id": "nKXnXWAvGfHK",
    "outputId": "f6eb06d3-325e-4e70-ac9f-2d512d292366"
   },
   "outputs": [
    {
     "name": "stdout",
     "output_type": "stream",
     "text": [
      "375/375 [==============================] - 1s 2ms/step - loss: 0.7322 - accuracy: 0.5128\n"
     ]
    }
   ],
   "source": [
    "accr1 = model4.evaluate(X_test1,Y_test1)"
   ]
  },
  {
   "cell_type": "code",
   "execution_count": 62,
   "metadata": {
    "colab": {
     "base_uri": "https://localhost:8080/"
    },
    "id": "87oO6eQ7HgTP",
    "outputId": "ce8f3b58-cab3-4253-c894-d95e74105be9"
   },
   "outputs": [
    {
     "name": "stdout",
     "output_type": "stream",
     "text": [
      "Test set\n",
      " Accuracy:0.51\n"
     ]
    }
   ],
   "source": [
    "print('Test set\\n Accuracy:{:0.2f}'.format(accr1[1]))"
   ]
  },
  {
   "cell_type": "code",
   "execution_count": 63,
   "metadata": {
    "id": "_xGsPxHaHjJv"
   },
   "outputs": [],
   "source": [
    "y_pred = model4.predict(X_test1) #getting predictions on the trained model\n",
    "y_pred = (y_pred > 0.5)"
   ]
  },
  {
   "cell_type": "code",
   "execution_count": 64,
   "metadata": {
    "colab": {
     "base_uri": "https://localhost:8080/",
     "height": 693
    },
    "id": "O_T3yizvHnmw",
    "outputId": "a1c8332c-8f0a-4b14-f480-a4fc1d2d01ed"
   },
   "outputs": [
    {
     "name": "stdout",
     "output_type": "stream",
     "text": [
      "\n",
      " Confusion Matrix \n",
      "\n",
      "[[2523 3486]\n",
      " [2360 3631]]\n",
      "\n",
      "\n"
     ]
    },
    {
     "data": {
      "image/png": "[encoded data removed]",
      "text/plain": [
       "<Figure size 720x720 with 2 Axes>"
      ]
     },
     "metadata": {
      "tags": []
     },
     "output_type": "display_data"
    }
   ],
   "source": [
    "print('\\n Confusion Matrix \\n')\n",
    "CR = confusion_matrix(Y_test,y_pred)\n",
    "print(CR)\n",
    "print('\\n')\n",
    "\n",
    "fig,ax = plot_confusion_matrix(conf_mat = CR,figsize = (10,10),\n",
    "                              show_absolute = True,\n",
    "                              show_normed = True,\n",
    "                              colorbar = True)"
   ]
  },
  {
   "cell_type": "markdown",
   "metadata": {
    "id": "oa7k4XfcCBSG"
   },
   "source": [
    "**Model5**"
   ]
  },
  {
   "cell_type": "code",
   "execution_count": null,
   "metadata": {
    "colab": {
     "base_uri": "https://localhost:8080/"
    },
    "id": "PK97G56cCVOv",
    "outputId": "0b472318-bef3-44ce-8e3f-2f34c86428df"
   },
   "outputs": [
    {
     "name": "stdout",
     "output_type": "stream",
     "text": [
      "375/375 [==============================] - 4s 9ms/step - loss: 0.5909 - accuracy: 0.7265\n"
     ]
    }
   ],
   "source": [
    "accr1 = model5.evaluate(X_test1,Y_test1)"
   ]
  },
  {
   "cell_type": "code",
   "execution_count": null,
   "metadata": {
    "colab": {
     "base_uri": "https://localhost:8080/"
    },
    "id": "hKTjNx05GbDm",
    "outputId": "b75b0f44-377f-436d-b0fb-b82172429e5f"
   },
   "outputs": [
    {
     "name": "stdout",
     "output_type": "stream",
     "text": [
      "Test set\n",
      " Accuracy:0.73\n"
     ]
    }
   ],
   "source": [
    "print('Test set\\n Accuracy:{:0.2f}'.format(accr1[1]))"
   ]
  },
  {
   "cell_type": "code",
   "execution_count": null,
   "metadata": {
    "id": "VS8yF8c4GbUg"
   },
   "outputs": [],
   "source": [
    "y_pred = model5.predict(X_test1) #getting predictions on the trained model\n",
    "y_pred = (y_pred > 0.5)"
   ]
  },
  {
   "cell_type": "code",
   "execution_count": null,
   "metadata": {
    "colab": {
     "base_uri": "https://localhost:8080/",
     "height": 699
    },
    "id": "6XBGkVMRGblF",
    "outputId": "9415c2a4-9f41-4d72-b44d-2dc60e1d845f"
   },
   "outputs": [
    {
     "name": "stdout",
     "output_type": "stream",
     "text": [
      "\n",
      " Confusion Matrix \n",
      "\n",
      "[[4225 1784]\n",
      " [1498 4493]]\n",
      "\n",
      "\n"
     ]
    },
    {
     "data": {
      "image/png": "[encoded data removed]",
      "text/plain": [
       "<Figure size 720x720 with 2 Axes>"
      ]
     },
     "metadata": {
      "needs_background": "light",
      "tags": []
     },
     "output_type": "display_data"
    }
   ],
   "source": [
    "print('\\n Confusion Matrix \\n')\n",
    "CR = confusion_matrix(Y_test,y_pred)\n",
    "print(CR)\n",
    "print('\\n')\n",
    "\n",
    "fig,ax = plot_confusion_matrix(conf_mat = CR,figsize = (10,10),\n",
    "                              show_absolute = True,\n",
    "                              show_normed = True,\n",
    "                              colorbar = True)"
   ]
  }
 ],
 "metadata": {
  "accelerator": "GPU",
  "colab": {
   "collapsed_sections": [
    "lpjhWgs__PSe"
   ],
   "name": "DL Assignment Q2.ipynb",
   "provenance": []
  },
  "kernelspec": {
   "display_name": "Python 3",
   "name": "python3"
  },
  "language_info": {
   "name": "python"
  }
 },
 "nbformat": 4,
 "nbformat_minor": 0
}
